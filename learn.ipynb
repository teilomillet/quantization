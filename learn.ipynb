{
 "cells": [
  {
   "cell_type": "code",
   "execution_count": 6,
   "metadata": {},
   "outputs": [
    {
     "name": "stdout",
     "output_type": "stream",
     "text": [
      "[127.54 -46.75   0.    64.61 -30.12 -36.49  84.76 -45.75  72.6   23.35\n",
      " -37.24 126.54  34.03  85.34 106.85  -3.66 -12.48 101.93  74.2   37.73]\n"
     ]
    }
   ],
   "source": [
    "import numpy as np\n",
    "\n",
    "# Generate randomly distributed parameters\n",
    "params = np.random.uniform(low=-50, high=150, size=20)\n",
    "\n",
    "# Les valeurs importantes sont aux debut pour facilité le debuggage\n",
    "params[0] = params.max() + 1\n",
    "params[1] = params.min() -1\n",
    "params[2] = 0\n",
    "\n",
    "# arondi a la deuxieme decimal\n",
    "params = np.round(params, 2)\n",
    "\n",
    "# show\n",
    "print(params)"
   ]
  },
  {
   "cell_type": "markdown",
   "metadata": {},
   "source": [
    "## Quantization method\n"
   ]
  },
  {
   "cell_type": "code",
   "execution_count": 12,
   "metadata": {},
   "outputs": [
    {
     "name": "stdout",
     "output_type": "stream",
     "text": [
      "Original:\n",
      "[127.54 -46.75   0.    64.61 -30.12 -36.49  84.76 -45.75  72.6   23.35\n",
      " -37.24 126.54  34.03  85.34 106.85  -3.66 -12.48 101.93  74.2   37.73]\n",
      "\n",
      "Asymmetric scale: 0.6834901960784314, zero: 68.0\n",
      "[255   0  68 163  24  15 192   1 174 102  14 253 118 193 224  63  50 217\n",
      " 177 123]\n",
      "\n",
      "Symmetric scale: 1.004251968503937\n",
      "[127 -47   0  64 -30 -36  84 -46  72  23 -37 126  34  85 106  -4 -12 101\n",
      "  74  38]\n"
     ]
    }
   ],
   "source": [
    "def clamp(params_q: np.array, lower_bound: int, upper_bound: int) ->  np.array:\n",
    "    params_q[params_q < lower_bound] = lower_bound\n",
    "    params_q[params_q > upper_bound] = upper_bound\n",
    "    return params_q\n",
    "\n",
    "def asymmetric_quantization(params: np.array, bits: int) -> tuple[np.array, float, int]:\n",
    "    \n",
    "    # Calculate the scale and zero point\n",
    "    alpha = np.max(params)\n",
    "    beta = np.min(params)\n",
    "    scale = (alpha - beta) / (2**bits-1)\n",
    "    zero = -1*np.round(beta / scale)\n",
    "    lower_bound, upper_bound = 0, 2**bits-1\n",
    "    \n",
    "    # Quantize the parameters\n",
    "    quantized = clamp(np.round(params / scale + zero), lower_bound, upper_bound).astype(np.int32)\n",
    "    return quantized, scale, zero\n",
    "\n",
    "def asymmetric_dequantization(params_q: np.array, scale: float, zero: int) -> np.array:\n",
    "    return (params_q - zero) * scale\n",
    "\n",
    "def symmetric_dequantization(params_q: np.array, scale: float) -> np.array:\n",
    "    return params_q * scale\n",
    "\n",
    "def symmetric_quantization(params: np.array, bits: int) -> tuple[np.array,float]:\n",
    "    \n",
    "    # Calculate the scale\n",
    "    alpha = np.max(np.abs(params))\n",
    "    scale = alpha  / (2**(bits-1)-1)\n",
    "    lower_bound = -2**(bits-1)\n",
    "    upper_bound = 2**(bits-1)-1\n",
    "    \n",
    "    # Quantize the parameters\n",
    "    quantized = clamp(np.round(params / scale), lower_bound, upper_bound).astype(np.int32)\n",
    "    return quantized, scale\n",
    "    \n",
    "def quantization_error(params: np.array, params_q: np.array):\n",
    " \n",
    "    # Calculate the MSE\n",
    "    return np.mean((params - params_q) **2)\n",
    "\n",
    "(asymmetric_q, asymmetric_scale, asymmetric_zero) = asymmetric_quantization(params, 8)\n",
    "(symmetric_q, symmetric_scale) = symmetric_quantization(params, 8)\n",
    "\n",
    "print(f'Original:')\n",
    "print(np.round(params, 2))\n",
    "print('')\n",
    "print(f'Asymmetric scale: {asymmetric_scale}, zero: {asymmetric_zero}')\n",
    "print(asymmetric_q)\n",
    "print('')\n",
    "print(f'Symmetric scale: {symmetric_scale}')\n",
    "print(symmetric_q)"
   ]
  },
  {
   "cell_type": "code",
   "execution_count": 15,
   "metadata": {},
   "outputs": [
    {
     "name": "stdout",
     "output_type": "stream",
     "text": [
      "Original:\n",
      "[127.54 -46.75   0.    64.61 -30.12 -36.49  84.76 -45.75  72.6   23.35\n",
      " -37.24 126.54  34.03  85.34 106.85  -3.66 -12.48 101.93  74.2   37.73]\n",
      "\n",
      "Dequntize Asymmetric: \n",
      "[127.81 -46.48   0.    64.93 -30.07 -36.22  84.75 -45.79  72.45  23.24\n",
      " -36.91 126.45  34.17  85.44 106.62  -3.42 -12.3  101.84  74.5   37.59]\n",
      "\n",
      "Dequantize Symmetric: \n",
      "[127.81 -46.48   0.    64.93 -30.07 -36.22  84.75 -45.79  72.45  23.24\n",
      " -36.91 126.45  34.17  85.44 106.62  -3.42 -12.3  101.84  74.5   37.59]\n"
     ]
    }
   ],
   "source": [
    "# Dequantize the parameters back to 32 bits\n",
    "params_deq_asymmetric = asymmetric_dequantization(asymmetric_q, asymmetric_scale, asymmetric_zero)\n",
    "params_deq_symmetric = symmetric_dequantization(symmetric_q, symmetric_scale)\n",
    "\n",
    "print(f'Original:')\n",
    "print(np.round(params, 2))\n",
    "print('')\n",
    "print(f'Dequntize Asymmetric: ')\n",
    "print(np.round(params_deq_asymmetric, 2))\n",
    "print('')\n",
    "print(f'Dequantize Symmetric: ')\n",
    "print(np.round(params_deq_asymmetric, 2))"
   ]
  },
  {
   "cell_type": "code",
   "execution_count": 16,
   "metadata": {},
   "outputs": [
    {
     "name": "stdout",
     "output_type": "stream",
     "text": [
      "  Asymmetric error: 0.04\n",
      "    Symmetric erro: 0.09\n"
     ]
    }
   ],
   "source": [
    "# Quantization error\n",
    "\n",
    "print(f'{\"Asymmetric error: \":>20}{np.round(quantization_error(params, params_deq_asymmetric), 2)}')\n",
    "print(f'{\"Symmetric erro: \":>20}{np.round(quantization_error(params, params_deq_symmetric), 2)}')"
   ]
  }
 ],
 "metadata": {
  "kernelspec": {
   "display_name": "base",
   "language": "python",
   "name": "python3"
  },
  "language_info": {
   "codemirror_mode": {
    "name": "ipython",
    "version": 3
   },
   "file_extension": ".py",
   "mimetype": "text/x-python",
   "name": "python",
   "nbconvert_exporter": "python",
   "pygments_lexer": "ipython3",
   "version": "3.11.5"
  }
 },
 "nbformat": 4,
 "nbformat_minor": 2
}
